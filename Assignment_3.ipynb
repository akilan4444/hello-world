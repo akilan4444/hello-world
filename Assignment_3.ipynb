{
  "nbformat": 4,
  "nbformat_minor": 0,
  "metadata": {
    "colab": {
      "provenance": [],
      "collapsed_sections": []
    },
    "kernelspec": {
      "name": "python3",
      "display_name": "Python 3"
    },
    "language_info": {
      "name": "python"
    }
  },
  "cells": [
    {
      "cell_type": "markdown",
      "source": [
        "2)Image Augmentation"
      ],
      "metadata": {
        "id": "y4WYH4zyUVyM"
      }
    },
    {
      "cell_type": "code",
      "source": [
        "from tensorflow.keras.preprocessing.image import ImageDataGenerator"
      ],
      "metadata": {
        "id": "ALkPT24lUZwM"
      },
      "execution_count": null,
      "outputs": []
    },
    {
      "cell_type": "code",
      "source": [
        "train_datagen=ImageDataGenerator(rescale=1./255,zoom_range=0.2,horizontal_flip=True,vertical_flip=True)"
      ],
      "metadata": {
        "id": "U_iOkYTaVFmj"
      },
      "execution_count": null,
      "outputs": []
    },
    {
      "cell_type": "code",
      "source": [
        "test_datagen=ImageDataGenerator(rescale=1./255)"
      ],
      "metadata": {
        "id": "pwNH0zb5VVCp"
      },
      "execution_count": null,
      "outputs": []
    },
    {
      "cell_type": "markdown",
      "source": [
        "Load Data"
      ],
      "metadata": {
        "id": "GcGeb0sUVcWF"
      }
    },
    {
      "cell_type": "code",
      "source": [
        "x_train=train_datagen.flow_from_directory(r\"/content/drive/MyDrive/Assignment 3/Flowers-Dataset/Training\",target_size=(64,64),class_mode='categorical',batch_size=24)"
      ],
      "metadata": {
        "colab": {
          "base_uri": "https://localhost:8080/"
        },
        "id": "OyCC_6uQVdxh",
        "outputId": "ca9dcde0-723a-4f59-a690-697ad1522baf"
      },
      "execution_count": null,
      "outputs": [
        {
          "output_type": "stream",
          "name": "stdout",
          "text": [
            "Found 3293 images belonging to 5 classes.\n"
          ]
        }
      ]
    },
    {
      "cell_type": "code",
      "source": [
        "x_test=test_datagen.flow_from_directory(r\"/content/drive/MyDrive/Assignment 3/Flowers-Dataset/Testing\",target_size=(64,64),class_mode='categorical',batch_size=24)"
      ],
      "metadata": {
        "colab": {
          "base_uri": "https://localhost:8080/"
        },
        "id": "MkvwQIugWFEa",
        "outputId": "5a062fa1-5ccb-4e2c-c1c5-4e04331b1cf7"
      },
      "execution_count": null,
      "outputs": [
        {
          "output_type": "stream",
          "name": "stdout",
          "text": [
            "Found 1317 images belonging to 5 classes.\n"
          ]
        }
      ]
    },
    {
      "cell_type": "code",
      "source": [
        "x_train.class_indices"
      ],
      "metadata": {
        "colab": {
          "base_uri": "https://localhost:8080/"
        },
        "id": "kkvJc6geZFYu",
        "outputId": "9f527ff2-c9af-41a7-837e-2cca2dbd1969"
      },
      "execution_count": null,
      "outputs": [
        {
          "output_type": "execute_result",
          "data": {
            "text/plain": [
              "{'daisy': 0, 'dandelion': 1, 'rose': 2, 'sunflower': 3, 'tulip': 4}"
            ]
          },
          "metadata": {},
          "execution_count": 8
        }
      ]
    },
    {
      "cell_type": "code",
      "source": [
        "x_test.class_indices"
      ],
      "metadata": {
        "colab": {
          "base_uri": "https://localhost:8080/"
        },
        "id": "2byqaTSyZMzG",
        "outputId": "5cca77ec-40e7-47fa-a148-25d8f92e8c95"
      },
      "execution_count": null,
      "outputs": [
        {
          "output_type": "execute_result",
          "data": {
            "text/plain": [
              "{'daisy': 0, 'dandelion': 1, 'rose': 2, 'sunflower': 3, 'tulip': 4}"
            ]
          },
          "metadata": {},
          "execution_count": 9
        }
      ]
    },
    {
      "cell_type": "markdown",
      "source": [
        "3)Create Model"
      ],
      "metadata": {
        "id": "_OGHwQ4ZZSI4"
      }
    },
    {
      "cell_type": "code",
      "source": [
        "from tensorflow.keras.models import Sequential"
      ],
      "metadata": {
        "id": "Dbo4rsiWZQfV"
      },
      "execution_count": null,
      "outputs": []
    },
    {
      "cell_type": "code",
      "source": [
        "from tensorflow.keras.layers import Dense,Convolution2D,MaxPooling2D,Flatten"
      ],
      "metadata": {
        "id": "u5F53DwDZc2J"
      },
      "execution_count": null,
      "outputs": []
    },
    {
      "cell_type": "code",
      "source": [
        "model=Sequential()"
      ],
      "metadata": {
        "id": "Kh0MJhnzZqvq"
      },
      "execution_count": null,
      "outputs": []
    },
    {
      "cell_type": "markdown",
      "source": [
        "4)Add Layers"
      ],
      "metadata": {
        "id": "wF9vJMy-ZuQP"
      }
    },
    {
      "cell_type": "markdown",
      "source": [
        "a)Convolution Layer"
      ],
      "metadata": {
        "id": "jXofWbo_baMf"
      }
    },
    {
      "cell_type": "code",
      "source": [
        "model.add(Convolution2D(32,(3,3),kernel_initializer=\"random_uniform\",activation=\"relu\",strides=(1,1),input_shape=(64,64,3)))"
      ],
      "metadata": {
        "id": "qwd0fVdXZyy_"
      },
      "execution_count": null,
      "outputs": []
    },
    {
      "cell_type": "markdown",
      "source": [
        "b)MaxPooling Layer"
      ],
      "metadata": {
        "id": "qNoWPwELbcqF"
      }
    },
    {
      "cell_type": "code",
      "source": [
        "model.add(MaxPooling2D(pool_size=(2,2)))"
      ],
      "metadata": {
        "id": "9Al05_fObCMm"
      },
      "execution_count": null,
      "outputs": []
    },
    {
      "cell_type": "markdown",
      "source": [
        "c)Flatten"
      ],
      "metadata": {
        "id": "zRWn36tybfBu"
      }
    },
    {
      "cell_type": "code",
      "source": [
        "model.add(Flatten())"
      ],
      "metadata": {
        "id": "nJiX1yhLbKJl"
      },
      "execution_count": null,
      "outputs": []
    },
    {
      "cell_type": "markdown",
      "source": [
        "d)Dense(Hidden layer)"
      ],
      "metadata": {
        "id": "ylGKS6JybguJ"
      }
    },
    {
      "cell_type": "code",
      "source": [
        "model.add(Dense(300,activation=\"relu\"))"
      ],
      "metadata": {
        "id": "d0ETXjoTbS5k"
      },
      "execution_count": null,
      "outputs": []
    },
    {
      "cell_type": "code",
      "source": [
        "model.add(Dense(300,activation=\"relu\"))"
      ],
      "metadata": {
        "id": "GbueLfcXbmie"
      },
      "execution_count": null,
      "outputs": []
    },
    {
      "cell_type": "markdown",
      "source": [
        "e)Output layer"
      ],
      "metadata": {
        "id": "yGIE4Ku1buCG"
      }
    },
    {
      "cell_type": "code",
      "source": [
        "model.add(Dense(5,activation=\"softmax\"))"
      ],
      "metadata": {
        "id": "YzkiUMUgbv1O"
      },
      "execution_count": null,
      "outputs": []
    },
    {
      "cell_type": "markdown",
      "source": [
        "5)Compile the model"
      ],
      "metadata": {
        "id": "RzyhjF8CcE_T"
      }
    },
    {
      "cell_type": "code",
      "source": [
        "model.compile(loss=\"categorical_crossentropy\",metrics=['accuracy'],optimizer='adam')"
      ],
      "metadata": {
        "id": "yc2D8UqUcG7N"
      },
      "execution_count": null,
      "outputs": []
    },
    {
      "cell_type": "markdown",
      "source": [
        "6)Fit the model"
      ],
      "metadata": {
        "id": "Q0mtlruscWgv"
      }
    },
    {
      "cell_type": "code",
      "source": [
        "model.fit(x_train,epochs=5,steps_per_epoch=len(x_train),validation_data=x_test,validation_steps=len(x_test))"
      ],
      "metadata": {
        "colab": {
          "base_uri": "https://localhost:8080/"
        },
        "id": "j7u6oDmzjYNL",
        "outputId": "f7423e0f-cce0-4031-96ec-aa5a8703c526"
      },
      "execution_count": null,
      "outputs": [
        {
          "output_type": "stream",
          "name": "stdout",
          "text": [
            "Epoch 1/5\n",
            "138/138 [==============================] - 29s 205ms/step - loss: 0.0980 - accuracy: 0.9712 - val_loss: 2.5114 - val_accuracy: 0.6560\n",
            "Epoch 2/5\n",
            "138/138 [==============================] - 26s 190ms/step - loss: 0.1125 - accuracy: 0.9623 - val_loss: 2.1169 - val_accuracy: 0.6735\n",
            "Epoch 3/5\n",
            "138/138 [==============================] - 26s 190ms/step - loss: 0.0765 - accuracy: 0.9787 - val_loss: 1.8115 - val_accuracy: 0.7213\n",
            "Epoch 4/5\n",
            "138/138 [==============================] - 27s 193ms/step - loss: 0.0675 - accuracy: 0.9757 - val_loss: 1.8917 - val_accuracy: 0.7160\n",
            "Epoch 5/5\n",
            "138/138 [==============================] - 26s 192ms/step - loss: 0.0841 - accuracy: 0.9745 - val_loss: 2.0121 - val_accuracy: 0.7183\n"
          ]
        },
        {
          "output_type": "execute_result",
          "data": {
            "text/plain": [
              "<keras.callbacks.History at 0x7f5d21b18710>"
            ]
          },
          "metadata": {},
          "execution_count": 63
        }
      ]
    },
    {
      "cell_type": "markdown",
      "source": [
        "7)Save the model"
      ],
      "metadata": {
        "id": "K4g5kJQHsS5t"
      }
    },
    {
      "cell_type": "code",
      "source": [
        "model.save(\"Flowers.h5\")"
      ],
      "metadata": {
        "id": "O_UytqELsYfG"
      },
      "execution_count": null,
      "outputs": []
    },
    {
      "cell_type": "markdown",
      "source": [
        "8)Test the model"
      ],
      "metadata": {
        "id": "s4BSOQlytiqT"
      }
    },
    {
      "cell_type": "code",
      "source": [
        "import numpy as np\n",
        "from tensorflow.keras.models import load_model\n",
        "from tensorflow.keras.preprocessing import image"
      ],
      "metadata": {
        "id": "gNCyyslHtlh5"
      },
      "execution_count": null,
      "outputs": []
    },
    {
      "cell_type": "code",
      "source": [
        "model=load_model(\"Flowers.h5\")"
      ],
      "metadata": {
        "id": "DGYLQeCVt08r"
      },
      "execution_count": null,
      "outputs": []
    },
    {
      "cell_type": "code",
      "source": [
        "img=image.load_img(r\"/content/drive/MyDrive/Assignment 3/Flowers-Dataset/Testing/daisy/14333681205_a07c9f1752_m.jpg\",target_size=(64,64))"
      ],
      "metadata": {
        "id": "aZOkc2nEt6dB"
      },
      "execution_count": null,
      "outputs": []
    },
    {
      "cell_type": "code",
      "source": [
        "img"
      ],
      "metadata": {
        "colab": {
          "base_uri": "https://localhost:8080/",
          "height": 81
        },
        "id": "VHlngIjmyQRw",
        "outputId": "9bb1dc4d-9d9f-4d39-ad4a-2c1cf49933f5"
      },
      "execution_count": null,
      "outputs": [
        {
          "output_type": "execute_result",
          "data": {
            "text/plain": [
              "<PIL.Image.Image image mode=RGB size=64x64 at 0x7F5D219A5A90>"
            ],
            "image/png": "[encoded data removed]"
          },
          "metadata": {},
          "execution_count": 74
        }
      ]
    },
    {
      "cell_type": "code",
      "source": [
        "x=image.img_to_array(img)"
      ],
      "metadata": {
        "id": "Cm7h-nQ5uMnU"
      },
      "execution_count": null,
      "outputs": []
    },
    {
      "cell_type": "code",
      "source": [
        "x=np.expand_dims(x,axis=0)"
      ],
      "metadata": {
        "id": "UB4aHhV4yI_0"
      },
      "execution_count": null,
      "outputs": []
    },
    {
      "cell_type": "code",
      "source": [
        "pred=model.predict(x)"
      ],
      "metadata": {
        "id": "44b1sUSFuePV"
      },
      "execution_count": null,
      "outputs": []
    },
    {
      "cell_type": "code",
      "source": [
        "pred"
      ],
      "metadata": {
        "colab": {
          "base_uri": "https://localhost:8080/"
        },
        "id": "XC1ssCMIyT_N",
        "outputId": "3d41cc4c-aa50-40ac-ea9f-6631e55f84b3"
      },
      "execution_count": null,
      "outputs": [
        {
          "output_type": "execute_result",
          "data": {
            "text/plain": [
              "array([[1., 0., 0., 0., 0.]], dtype=float32)"
            ]
          },
          "metadata": {},
          "execution_count": 78
        }
      ]
    },
    {
      "cell_type": "code",
      "source": [
        "index=['daisy','dandelion','rose','sunflower','tulip']"
      ],
      "metadata": {
        "id": "gudpSl7mya9-"
      },
      "execution_count": null,
      "outputs": []
    },
    {
      "cell_type": "code",
      "source": [
        "index[np.argmax(pred)]"
      ],
      "metadata": {
        "colab": {
          "base_uri": "https://localhost:8080/",
          "height": 35
        },
        "id": "BNmov_x6zB2_",
        "outputId": "7b38a8f8-04ba-47e4-c807-2acb495175ce"
      },
      "execution_count": null,
      "outputs": [
        {
          "output_type": "execute_result",
          "data": {
            "text/plain": [
              "'daisy'"
            ],
            "application/vnd.google.colaboratory.intrinsic+json": {
              "type": "string"
            }
          },
          "metadata": {},
          "execution_count": 80
        }
      ]
    }
  ]
}